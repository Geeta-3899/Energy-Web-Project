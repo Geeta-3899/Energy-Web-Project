{
 "cells": [
  {
   "cell_type": "code",
   "execution_count": 1,
   "id": "1c56ef46-0588-4104-b9a7-5038c6063546",
   "metadata": {},
   "outputs": [],
   "source": [
    "from mpi4py import MPI"
   ]
  },
  {
   "cell_type": "code",
   "execution_count": 2,
   "id": "8a80c757-2c4b-4823-81cd-eff3f61b81f2",
   "metadata": {},
   "outputs": [
    {
     "name": "stdout",
     "output_type": "stream",
     "text": [
      "Hello, World!\n"
     ]
    }
   ],
   "source": [
    "print(\"Hello, World!\")"
   ]
  },
  {
   "cell_type": "code",
   "execution_count": 3,
   "id": "67229a07-1d47-4dc3-a785-66908240cfd1",
   "metadata": {},
   "outputs": [
    {
     "name": "stdout",
     "output_type": "stream",
     "text": [
      "Hello, World! I am process 0 of 1\n"
     ]
    }
   ],
   "source": [
    "size = MPI.COMM_WORLD.Get_size()\n",
    "rank = MPI.COMM_WORLD.Get_rank()\n",
    "print('Hello, World! I am process {} of {}'.format(rank, size))"
   ]
  },
  {
   "cell_type": "code",
   "execution_count": 5,
   "id": "fbad23a0-e2a3-4b36-beb9-5a762b3d1cd8",
   "metadata": {},
   "outputs": [
    {
     "ename": "ModuleNotFoundError",
     "evalue": "No module named 'repast4py'",
     "output_type": "error",
     "traceback": [
      "\u001b[1;31m---------------------------------------------------------------------------\u001b[0m",
      "\u001b[1;31mModuleNotFoundError\u001b[0m                       Traceback (most recent call last)",
      "Cell \u001b[1;32mIn[5], line 1\u001b[0m\n\u001b[1;32m----> 1\u001b[0m \u001b[38;5;28;01mimport\u001b[39;00m \u001b[38;5;21;01mrepast4py\u001b[39;00m\n",
      "\u001b[1;31mModuleNotFoundError\u001b[0m: No module named 'repast4py'"
     ]
    }
   ],
   "source": [
    "import repast4py"
   ]
  },
  {
   "cell_type": "code",
   "execution_count": 4,
   "id": "dfa02091-c757-4463-ad23-e77b462d17d3",
   "metadata": {},
   "outputs": [
    {
     "ename": "NameError",
     "evalue": "name 'random' is not defined",
     "output_type": "error",
     "traceback": [
      "\u001b[0;31m---------------------------------------------------------------------------\u001b[0m",
      "\u001b[0;31mNameError\u001b[0m                                 Traceback (most recent call last)",
      "Cell \u001b[0;32mIn[4], line 1\u001b[0m\n\u001b[0;32m----> 1\u001b[0m \u001b[43mrandom\u001b[49m\u001b[38;5;241m.\u001b[39mseed: \u001b[38;5;241m42\u001b[39m\n\u001b[1;32m      2\u001b[0m stop\u001b[38;5;241m.\u001b[39mat: \u001b[38;5;241m50\u001b[39m\n\u001b[1;32m      3\u001b[0m walker\u001b[38;5;241m.\u001b[39mcount: \u001b[38;5;241m1000\u001b[39m\n",
      "\u001b[0;31mNameError\u001b[0m: name 'random' is not defined"
     ]
    }
   ],
   "source": [
    "random.seed: 42\n",
    "stop.at: 50\n",
    "walker.count: 1000\n",
    "world.width: 2000\n",
    "world.height: 2000\n",
    "meet_log_file: 'output/meet_log.csv'\n",
    "agent_log_file: 'output/agent_log.csv'"
   ]
  },
  {
   "cell_type": "code",
   "execution_count": 4,
   "id": "1c488d76-735c-4322-988f-455d73c8d163",
   "metadata": {},
   "outputs": [
    {
     "name": "stdout",
     "output_type": "stream",
     "text": [
      "{'random.seed': 42, 'stop.at': 50, 'walker.count': 1000, 'world.width': 2000, 'world.height': 2000, 'meet_log_file': 'output/meet_log.csv', 'agent_log_file': 'output/agent_log.csv'}\n"
     ]
    }
   ],
   "source": [
    "##How to read yaml file details in python\n",
    "\n",
    "import yaml\n",
    "experiment_details = yaml.safe_load(open('random_walk.yaml'))\n",
    "print(experiment_details)\n",
    "\n"
   ]
  },
  {
   "cell_type": "code",
   "execution_count": 17,
   "id": "d7db418b-3900-4056-a3f0-b3d81ca4c9b3",
   "metadata": {},
   "outputs": [
    {
     "name": "stderr",
     "output_type": "stream",
     "text": [
      "usage: ipykernel_launcher.py [-h] parameters_file [parameters]\n",
      "ipykernel_launcher.py: error: unrecognized arguments: -f\n"
     ]
    },
    {
     "ename": "SystemExit",
     "evalue": "2",
     "output_type": "error",
     "traceback": [
      "An exception has occurred, use %tb to see the full traceback.\n",
      "\u001b[0;31mSystemExit\u001b[0m\u001b[0;31m:\u001b[0m 2\n"
     ]
    }
   ],
   "source": [
    "from typing import Dict, Tuple\n",
    "from mpi4py import MPI\n",
    "import numpy as np\n",
    "from dataclasses import dataclass\n",
    "\n",
    "from repast4py import core, random, space, schedule, logging, parameters\n",
    "from repast4py import context as ctx\n",
    "import repast4py\n",
    "from repast4py.space import DiscretePoint as dpt\n",
    "\n",
    "\n",
    "\n",
    "\n",
    "random.seed: 42\n",
    "\n",
    "\n",
    "\n",
    "@dataclass\n",
    "class MeetLog:\n",
    "    total_meets: int = 0\n",
    "    min_meets: int = 0\n",
    "    max_meets: int = 0\n",
    "\n",
    "\n",
    "class Walker(core.Agent):\n",
    "\n",
    "    TYPE = 0\n",
    "    OFFSETS = np.array([-1, 1])\n",
    "\n",
    "    def __init__(self, local_id: int, rank: int, pt: dpt):\n",
    "        super().__init__(id=local_id, type=Walker.TYPE, rank=rank)\n",
    "        self.pt = pt\n",
    "        self.meet_count = 0\n",
    "\n",
    "    def save(self) -> Tuple:\n",
    "        \"\"\"Saves the state of this Walker as a Tuple.\n",
    "\n",
    "        Returns:\n",
    "            The saved state of this Walker.\n",
    "        \"\"\"\n",
    "        return (self.uid, self.meet_count, self.pt.coordinates)\n",
    "\n",
    "    def walk(self, grid):\n",
    "        # choose two elements from the OFFSET array\n",
    "        # to select the direction to walk in the\n",
    "        # x and y dimensions\n",
    "        xy_dirs = random.default_rng.choice(Walker.OFFSETS, size=2)\n",
    "        self.pt = grid.move(self, dpt(self.pt.x + xy_dirs[0], self.pt.y + xy_dirs[1], 0))\n",
    "\n",
    "    def count_colocations(self, grid, meet_log: MeetLog):\n",
    "        # subtract self\n",
    "        num_here = grid.get_num_agents(self.pt) - 1\n",
    "        meet_log.total_meets += num_here\n",
    "        if num_here < meet_log.min_meets:\n",
    "            meet_log.min_meets = num_here\n",
    "        if num_here > meet_log.max_meets:\n",
    "            meet_log.max_meets = num_here\n",
    "        self.meet_count += num_here\n",
    "\n",
    "\n",
    "walker_cache = {}\n",
    "\n",
    "\n",
    "def restore_walker(walker_data: Tuple):\n",
    "    \"\"\"\n",
    "    Args:\n",
    "        walker_data: tuple containing the data returned by Walker.save.\n",
    "    \"\"\"\n",
    "    # uid is a 3 element tuple: 0 is id, 1 is type, 2 is rank\n",
    "    uid = walker_data[0]\n",
    "    pt_array = walker_data[2]\n",
    "    pt = dpt(pt_array[0], pt_array[1], 0)\n",
    "\n",
    "    if uid in walker_cache:\n",
    "        walker = walker_cache[uid]\n",
    "    else:\n",
    "        walker = Walker(uid[0], uid[2], pt)\n",
    "        walker_cache[uid] = walker\n",
    "\n",
    "    walker.meet_count = walker_data[1]\n",
    "    walker.pt = pt\n",
    "    return walker\n",
    "\n",
    "\n",
    "class Model:\n",
    "    \"\"\"\n",
    "    The Model class encapsulates the simulation, and is\n",
    "    responsible for initialization (scheduling events, creating agents,\n",
    "    and the grid the agents inhabit), and the overall iterating\n",
    "    behavior of the model.\n",
    "\n",
    "    Args:\n",
    "        comm: the mpi communicator over which the model is distributed.\n",
    "        params: the simulation input parameters\n",
    "    \"\"\"\n",
    "\n",
    "    def __init__(self, comm: MPI.Intracomm, params: Dict):\n",
    "        # create the schedule\n",
    "        self.runner = schedule.init_schedule_runner(comm)\n",
    "        self.runner.schedule_repeating_event(1, 1, self.step)\n",
    "        self.runner.schedule_repeating_event(1.1, 10, self.log_agents)\n",
    "        self.runner.schedule_stop(params['50'])\n",
    "        self.runner.schedule_end_event(self.at_end)\n",
    "\n",
    "        # create the context to hold the agents and manage cross process\n",
    "        # synchronization\n",
    "        self.context = ctx.SharedContext(comm)\n",
    "\n",
    "        # create a bounding box equal to the size of the entire global world grid\n",
    "        box = space.BoundingBox(0, params['2000'], 0, params['2000'], 0, 0)\n",
    "        # create a SharedGrid of 'box' size with sticky borders that allows multiple agents\n",
    "        # in each grid location.\n",
    "        self.grid = space.SharedGrid(name='grid', bounds=box, borders=space.BorderType.Sticky,\n",
    "                                     occupancy=space.OccupancyType.Multiple, buffer_size=2, comm=comm)\n",
    "        self.context.add_projection(self.grid)\n",
    "\n",
    "        rank = comm.Get_rank()\n",
    "        rng = repast4py.random.default_rng\n",
    "        for i in range(params['1000']):\n",
    "            # get a random x,y location in the grid\n",
    "            pt = self.grid.get_random_local_pt(rng)\n",
    "            # create and add the walker to the context\n",
    "            walker = Walker(i, rank, pt)\n",
    "            self.context.add(walker)\n",
    "            self.grid.move(walker, pt)\n",
    "\n",
    "        # initialize the logging\n",
    "        self.agent_logger = logging.TabularLogger(comm, params['agent_log_file.csv'], ['tick', 'agent_id', 'agent_uid_rank', 'meet_count'])\n",
    "\n",
    "        self.meet_log = MeetLog()\n",
    "        loggers = logging.create_loggers(self.meet_log, op=MPI.SUM, names={'total_meets': 'total'}, rank=rank)\n",
    "        loggers += logging.create_loggers(self.meet_log, op=MPI.MIN, names={'min_meets': 'min'}, rank=rank)\n",
    "        loggers += logging.create_loggers(self.meet_log, op=MPI.MAX, names={'max_meets': 'max'}, rank=rank)\n",
    "        self.data_set = logging.ReducingDataSet(loggers, comm, params['meet_log_file.csv'])\n",
    "\n",
    "        # count the initial colocations at time 0 and log\n",
    "        for walker in self.context.agents():\n",
    "            walker.count_colocations(self.grid, self.meet_log)\n",
    "        self.data_set.log(0)\n",
    "        self.meet_log.max_meets = self.meet_log.min_meets = self.meet_log.total_meets = 0\n",
    "        self.log_agents()\n",
    "\n",
    "    def step(self):\n",
    "        for walker in self.context.agents():\n",
    "            walker.walk(self.grid)\n",
    "\n",
    "        self.context.synchronize(restore_walker)\n",
    "\n",
    "        for walker in self.context.agents():\n",
    "            walker.count_colocations(self.grid, self.meet_log)\n",
    "\n",
    "        tick = self.runner.schedule.tick\n",
    "        self.data_set.log(tick)\n",
    "        # clear the meet log counts for the next tick\n",
    "        self.meet_log.max_meets = self.meet_log.min_meets = self.meet_log.total_meets = 0\n",
    "\n",
    "    def log_agents(self):\n",
    "        tick = self.runner.schedule.tick\n",
    "        for walker in self.context.agents():\n",
    "            self.agent_logger.log_row(tick, walker.id, walker.uid_rank, walker.meet_count)\n",
    "\n",
    "        self.agent_logger.write()\n",
    "\n",
    "    def at_end(self):\n",
    "        self.data_set.close()\n",
    "        self.agent_logger.close()\n",
    "\n",
    "    def start(self):\n",
    "        self.runner.execute()\n",
    "\n",
    "\n",
    "#def run(params: Dict):\n",
    "   # model = Model(MPI.COMM_WORLD, params)\n",
    "   # model.start()\n",
    "\n",
    "\n",
    "if __name__ == \"__main__\":\n",
    "    parser = parameters.create_args_parser()\n",
    "    args = parser.parse_args()\n",
    "    params = parameters.init_params(args.parameters_file, args.parameters)\n",
    "    run(params)\n",
    "\n",
    "\n",
    "##if you are using parameters directly may be you don't need to parse them"
   ]
  },
  {
   "cell_type": "code",
   "execution_count": 16,
   "id": "84259c81-0048-4c56-bab1-5c8ae327fe34",
   "metadata": {},
   "outputs": [
    {
     "ename": "SystemExit",
     "evalue": "2",
     "output_type": "error",
     "traceback": [
      "\u001b[0;31m---------------------------------------------------------------------------\u001b[0m",
      "\u001b[0;31mSystemExit\u001b[0m                                Traceback (most recent call last)",
      "Cell \u001b[0;32mIn[15], line 179\u001b[0m\n\u001b[1;32m    177\u001b[0m \u001b[38;5;28;01mif\u001b[39;00m \u001b[38;5;18m__name__\u001b[39m \u001b[38;5;241m==\u001b[39m \u001b[38;5;124m\"\u001b[39m\u001b[38;5;124m__main__\u001b[39m\u001b[38;5;124m\"\u001b[39m:\n\u001b[1;32m    178\u001b[0m     parser \u001b[38;5;241m=\u001b[39m parameters\u001b[38;5;241m.\u001b[39mcreate_args_parser()\n\u001b[0;32m--> 179\u001b[0m     args \u001b[38;5;241m=\u001b[39m \u001b[43mparser\u001b[49m\u001b[38;5;241;43m.\u001b[39;49m\u001b[43mparse_args\u001b[49m\u001b[43m(\u001b[49m\u001b[43m)\u001b[49m\n\u001b[1;32m    180\u001b[0m     params \u001b[38;5;241m=\u001b[39m parameters\u001b[38;5;241m.\u001b[39minit_params(args\u001b[38;5;241m.\u001b[39mparameters_file, args\u001b[38;5;241m.\u001b[39mparameters)\n\u001b[1;32m    181\u001b[0m     run(params)\n",
      "File \u001b[0;32m/usr/lib/python3.10/argparse.py:1848\u001b[0m, in \u001b[0;36mArgumentParser.parse_args\u001b[0;34m(self, args, namespace)\u001b[0m\n\u001b[1;32m   1846\u001b[0m \u001b[38;5;28;01mif\u001b[39;00m argv:\n\u001b[1;32m   1847\u001b[0m     msg \u001b[38;5;241m=\u001b[39m _(\u001b[38;5;124m'\u001b[39m\u001b[38;5;124munrecognized arguments: \u001b[39m\u001b[38;5;132;01m%s\u001b[39;00m\u001b[38;5;124m'\u001b[39m)\n\u001b[0;32m-> 1848\u001b[0m     \u001b[38;5;28;43mself\u001b[39;49m\u001b[38;5;241;43m.\u001b[39;49m\u001b[43merror\u001b[49m\u001b[43m(\u001b[49m\u001b[43mmsg\u001b[49m\u001b[43m \u001b[49m\u001b[38;5;241;43m%\u001b[39;49m\u001b[43m \u001b[49m\u001b[38;5;124;43m'\u001b[39;49m\u001b[38;5;124;43m \u001b[39;49m\u001b[38;5;124;43m'\u001b[39;49m\u001b[38;5;241;43m.\u001b[39;49m\u001b[43mjoin\u001b[49m\u001b[43m(\u001b[49m\u001b[43margv\u001b[49m\u001b[43m)\u001b[49m\u001b[43m)\u001b[49m\n\u001b[1;32m   1849\u001b[0m \u001b[38;5;28;01mreturn\u001b[39;00m args\n",
      "File \u001b[0;32m/usr/lib/python3.10/argparse.py:2606\u001b[0m, in \u001b[0;36mArgumentParser.error\u001b[0;34m(self, message)\u001b[0m\n\u001b[1;32m   2604\u001b[0m \u001b[38;5;28mself\u001b[39m\u001b[38;5;241m.\u001b[39mprint_usage(_sys\u001b[38;5;241m.\u001b[39mstderr)\n\u001b[1;32m   2605\u001b[0m args \u001b[38;5;241m=\u001b[39m {\u001b[38;5;124m'\u001b[39m\u001b[38;5;124mprog\u001b[39m\u001b[38;5;124m'\u001b[39m: \u001b[38;5;28mself\u001b[39m\u001b[38;5;241m.\u001b[39mprog, \u001b[38;5;124m'\u001b[39m\u001b[38;5;124mmessage\u001b[39m\u001b[38;5;124m'\u001b[39m: message}\n\u001b[0;32m-> 2606\u001b[0m \u001b[38;5;28;43mself\u001b[39;49m\u001b[38;5;241;43m.\u001b[39;49m\u001b[43mexit\u001b[49m\u001b[43m(\u001b[49m\u001b[38;5;241;43m2\u001b[39;49m\u001b[43m,\u001b[49m\u001b[43m \u001b[49m\u001b[43m_\u001b[49m\u001b[43m(\u001b[49m\u001b[38;5;124;43m'\u001b[39;49m\u001b[38;5;132;43;01m%(prog)s\u001b[39;49;00m\u001b[38;5;124;43m: error: \u001b[39;49m\u001b[38;5;132;43;01m%(message)s\u001b[39;49;00m\u001b[38;5;130;43;01m\\n\u001b[39;49;00m\u001b[38;5;124;43m'\u001b[39;49m\u001b[43m)\u001b[49m\u001b[43m \u001b[49m\u001b[38;5;241;43m%\u001b[39;49m\u001b[43m \u001b[49m\u001b[43margs\u001b[49m\u001b[43m)\u001b[49m\n",
      "File \u001b[0;32m/usr/lib/python3.10/argparse.py:2593\u001b[0m, in \u001b[0;36mArgumentParser.exit\u001b[0;34m(self, status, message)\u001b[0m\n\u001b[1;32m   2591\u001b[0m \u001b[38;5;28;01mif\u001b[39;00m message:\n\u001b[1;32m   2592\u001b[0m     \u001b[38;5;28mself\u001b[39m\u001b[38;5;241m.\u001b[39m_print_message(message, _sys\u001b[38;5;241m.\u001b[39mstderr)\n\u001b[0;32m-> 2593\u001b[0m \u001b[43m_sys\u001b[49m\u001b[38;5;241;43m.\u001b[39;49m\u001b[43mexit\u001b[49m\u001b[43m(\u001b[49m\u001b[43mstatus\u001b[49m\u001b[43m)\u001b[49m\n",
      "\u001b[0;31mSystemExit\u001b[0m: 2"
     ]
    }
   ],
   "source": [
    "%tb"
   ]
  },
  {
   "cell_type": "code",
   "execution_count": null,
   "id": "f43851a9-8377-4586-9a33-937325a8b81c",
   "metadata": {},
   "outputs": [],
   "source": []
  }
 ],
 "metadata": {
  "kernelspec": {
   "display_name": "Python 3 (ipykernel)",
   "language": "python",
   "name": "python3"
  },
  "language_info": {
   "codemirror_mode": {
    "name": "ipython",
    "version": 3
   },
   "file_extension": ".py",
   "mimetype": "text/x-python",
   "name": "python",
   "nbconvert_exporter": "python",
   "pygments_lexer": "ipython3",
   "version": "3.12.3"
  }
 },
 "nbformat": 4,
 "nbformat_minor": 5
}
